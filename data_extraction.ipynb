{
  "nbformat": 4,
  "nbformat_minor": 0,
  "metadata": {
    "colab": {
      "provenance": [],
      "authorship_tag": "ABX9TyNIDKmDspkKbxigQhbeW0Kv"
    },
    "kernelspec": {
      "name": "python3",
      "display_name": "Python 3"
    },
    "language_info": {
      "name": "python"
    }
  },
  "cells": [
    {
      "cell_type": "code",
      "execution_count": null,
      "metadata": {
        "id": "S6TX18aE9ACE"
      },
      "outputs": [],
      "source": [
        "# In case it spotipy not installed \n",
        "# %pip install spotipy\n",
        "# %pip install python-dotenv"
      ]
    },
    {
      "cell_type": "code",
      "source": [
        "# Import all needed libraries\n",
        "import spotipy\n",
        "from spotipy.oauth2 import SpotifyClientCredentials\n",
        "from spotipy.oauth2 import SpotifyOAuth\n",
        "\n",
        "\n",
        "import os\n",
        "from dotenv import load_dotenv"
      ],
      "metadata": {
        "id": "9G6PYPGq3uBe"
      },
      "execution_count": 13,
      "outputs": []
    },
    {
      "cell_type": "code",
      "source": [
        "# Create your own .env file witht he needed credentials\n",
        "# with open('.env', 'w') as f:\n",
        "#     f.write('SPOTIFY_CLIENT_ID=your_own_client_id\\n')\n",
        "#     f.write('SPOTIFY_CLIENT_SECRET=your_own_client_secret')\n",
        "\n",
        "load_dotenv()\n",
        "\n",
        "# Get the Spotify API credentials from the environment variables\n",
        "client_id = os.environ['SPOTIFY_CLIENT_ID']\n",
        "client_secret = os.environ['SPOTIFY_CLIENT_SECRET']\n",
        "\n",
        "# These two variables are needed to access a particular user information\n",
        "redirect_uri = \"cool-recommendation-system-login://callback.\"\n",
        "scope = \"user-library-read user-top-read playlist-modify-private\""
      ],
      "metadata": {
        "id": "544qdwp931nT"
      },
      "execution_count": 27,
      "outputs": []
    },
    {
      "cell_type": "markdown",
      "source": [
        "There are two authentication keys to be used:\n",
        "- Authentication without user: access to general Spotify data\n",
        "- Authentication with a user: access to the data of a given user, indicating their particular stats, followed lists, etc."
      ],
      "metadata": {
        "id": "UFLGPt-86P-I"
      }
    },
    {
      "cell_type": "code",
      "source": [
        "#Authentication - without user\n",
        "client_credentials_manager = SpotifyClientCredentials(client_id=client_id, client_secret=client_secret)\n",
        "sp = spotipy.Spotify(client_credentials_manager = client_credentials_manager)\n",
        "\n",
        "# Authentication with user\n",
        "\n",
        "sp_oauth = SpotifyOAuth(client_id=client_id, client_secret=client_secret, redirect_uri=redirect_uri, scope=scope,\n",
        "                        show_dialog = True, open_browser = False)\n",
        "auth_url = sp_oauth.get_authorize_url()\n",
        "print(f\"Please visit the following URL to authorize the application: {auth_url}\")\n",
        "\n",
        "redirected_url = input(\"Please enter the URL you were redirected to: \")\n",
        "\n",
        "SpotifyOauthError: error: invalid_grant, error_description: Invalid authorization code\n",
        "\n",
        "code = sp_oauth.parse_response_code(redirected_url)\n",
        "token_info = sp_oauth.get_access_token(code)\n",
        "\n",
        "# Create a Spotipy client using the access token\n",
        "sp_user = spotipy.Spotify(auth=token_info['access_token'])"
      ],
      "metadata": {
        "id": "AtnG02cl6DhE"
      },
      "execution_count": null,
      "outputs": []
    },
    {
      "cell_type": "code",
      "source": [
        "top_tracks = sp_user.current_user_top_tracks(limit=10, time_range='short_term')  # short_term, medium_term, or long_term\n"
      ],
      "metadata": {
        "id": "lSUpKpfP-V-_"
      },
      "execution_count": null,
      "outputs": []
    },
    {
      "cell_type": "code",
      "source": [
        "playlist_link = \"https://open.spotify.com/playlist/37i9dQZEVXbNG2KDcFcKOF?si=1333723a6eff4b7f\"\n",
        "playlist_URI = playlist_link.split(\"/\")[-1].split(\"?\")[0]\n",
        "track_uris = [x[\"track\"][\"uri\"] for x in sp.playlist_tracks(playlist_URI)[\"items\"]]"
      ],
      "metadata": {
        "id": "R_q5MQ5c9YBe"
      },
      "execution_count": 16,
      "outputs": []
    },
    {
      "cell_type": "code",
      "source": [
        "for track in sp.playlist_tracks(playlist_URI)[\"items\"]:\n",
        "    #URI\n",
        "    track_uri = track[\"track\"][\"uri\"]\n",
        "    \n",
        "    #Track name\n",
        "    track_name = track[\"track\"][\"name\"]\n",
        "    \n",
        "    #Main Artist\n",
        "    artist_uri = track[\"track\"][\"artists\"][0][\"uri\"]\n",
        "    artist_info = sp.artist(artist_uri)\n",
        "    \n",
        "    #Name, popularity, genre\n",
        "    artist_name = track[\"track\"][\"artists\"][0][\"name\"]\n",
        "    artist_pop = artist_info[\"popularity\"]\n",
        "    artist_genres = artist_info[\"genres\"]\n",
        "    \n",
        "    #Album\n",
        "    album = track[\"track\"][\"album\"][\"name\"]\n",
        "    \n",
        "    #Popularity of the track\n",
        "    track_pop = track[\"track\"][\"popularity\"]"
      ],
      "metadata": {
        "id": "G5apdCAS9aWY"
      },
      "execution_count": 19,
      "outputs": []
    },
    {
      "cell_type": "code",
      "source": [
        "artist_info"
      ],
      "metadata": {
        "id": "gFJA5jIY9pag",
        "outputId": "3add8f95-0d5e-450e-b701-1eae771b9d9e",
        "colab": {
          "base_uri": "https://localhost:8080/"
        }
      },
      "execution_count": 22,
      "outputs": [
        {
          "output_type": "execute_result",
          "data": {
            "text/plain": [
              "{'external_urls': {'spotify': 'https://open.spotify.com/artist/53XhwfbYqKCa1cC15pYq2q'},\n",
              " 'followers': {'href': None, 'total': 46733088},\n",
              " 'genres': ['modern rock', 'rock'],\n",
              " 'href': 'https://api.spotify.com/v1/artists/53XhwfbYqKCa1cC15pYq2q',\n",
              " 'id': '53XhwfbYqKCa1cC15pYq2q',\n",
              " 'images': [{'height': 640,\n",
              "   'url': 'https://i.scdn.co/image/ab6761610000e5eb920dc1f617550de8388f368e',\n",
              "   'width': 640},\n",
              "  {'height': 320,\n",
              "   'url': 'https://i.scdn.co/image/ab67616100005174920dc1f617550de8388f368e',\n",
              "   'width': 320},\n",
              "  {'height': 160,\n",
              "   'url': 'https://i.scdn.co/image/ab6761610000f178920dc1f617550de8388f368e',\n",
              "   'width': 160}],\n",
              " 'name': 'Imagine Dragons',\n",
              " 'popularity': 89,\n",
              " 'type': 'artist',\n",
              " 'uri': 'spotify:artist:53XhwfbYqKCa1cC15pYq2q'}"
            ]
          },
          "metadata": {},
          "execution_count": 22
        }
      ]
    }
  ]
}