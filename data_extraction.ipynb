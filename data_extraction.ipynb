{
  "nbformat": 4,
  "nbformat_minor": 0,
  "metadata": {
    "colab": {
      "provenance": [],
      "authorship_tag": "ABX9TyNIAmmEdf/HC8TLdOF1ffyn"
    },
    "kernelspec": {
      "name": "python3",
      "display_name": "Python 3"
    },
    "language_info": {
      "name": "python"
    }
  },
  "cells": [
    {
      "cell_type": "code",
      "execution_count": null,
      "metadata": {
        "id": "S6TX18aE9ACE"
      },
      "outputs": [],
      "source": [
        "# In case it spotipy not installed \n",
        "# %pip install spotipy\n",
        "# %pip install python-dotenv"
      ]
    },
    {
      "cell_type": "code",
      "source": [
        "# Import all needed libraries\n",
        "import spotipy\n",
        "from spotipy.oauth2 import SpotifyClientCredentials\n",
        "\n",
        "import os\n",
        "from dotenv import load_dotenv"
      ],
      "metadata": {
        "id": "9G6PYPGq3uBe"
      },
      "execution_count": 3,
      "outputs": []
    },
    {
      "cell_type": "code",
      "source": [
        "# Create your own .env file witht he needed credentials\n",
        "with open('.env', 'w') as f:\n",
        "    f.write('SPOTIFY_CLIENT_ID=your_own_client_id\\n')\n",
        "    f.write('SPOTIFY_CLIENT_SECRET=your_own_client_secret')\n",
        "\n",
        "load_dotenv()\n",
        "\n",
        "# Get the Spotify API credentials from the environment variables\n",
        "client_id = os.environ['SPOTIFY_CLIENT_ID']\n",
        "client_secret = os.environ['SPOTIFY_CLIENT_SECRET']"
      ],
      "metadata": {
        "id": "544qdwp931nT"
      },
      "execution_count": 7,
      "outputs": []
    }
  ]
}