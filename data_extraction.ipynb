{
  "nbformat": 4,
  "nbformat_minor": 0,
  "metadata": {
    "colab": {
      "provenance": [],
      "authorship_tag": "ABX9TyN+sD4MTc5sD4K1bKSW/mYB"
    },
    "kernelspec": {
      "name": "python3",
      "display_name": "Python 3"
    },
    "language_info": {
      "name": "python"
    }
  },
  "cells": [
    {
      "cell_type": "code",
      "execution_count": null,
      "metadata": {
        "id": "S6TX18aE9ACE"
      },
      "outputs": [],
      "source": [
        "# In case it spotipy not installed \n",
        "#%pip install spotipy\n",
        "#%pip install python-dotenv"
      ]
    },
    {
      "cell_type": "code",
      "source": [
        "# Import all needed libraries\n",
        "import spotipy\n",
        "from spotipy.oauth2 import SpotifyClientCredentials\n",
        "from spotipy.oauth2 import SpotifyOAuth\n",
        "\n",
        "\n",
        "import os\n",
        "from dotenv import load_dotenv"
      ],
      "metadata": {
        "id": "9G6PYPGq3uBe"
      },
      "execution_count": 4,
      "outputs": []
    },
    {
      "cell_type": "code",
      "source": [
        "# Create your own .env file witht he needed credentials\n",
        "# with open('.env', 'w') as f:\n",
        "#     f.write('SPOTIFY_CLIENT_ID=your_own_client_id\\n')\n",
        "#     f.write('SPOTIFY_CLIENT_SECRET=your_own_client_secret')\n",
        "\n",
        "load_dotenv()\n",
        "\n",
        "# Get the Spotify API credentials from the environment variables\n",
        "client_id = os.environ['SPOTIFY_CLIENT_ID']\n",
        "client_secret = os.environ['SPOTIFY_CLIENT_SECRET']\n",
        "\n",
        "# These two variables are needed to access a particular user information\n",
        "redirect_uri = \"cool-recommendation-system-login://callback.\"\n",
        "scope = \"user-library-read user-top-read playlist-modify-private\""
      ],
      "metadata": {
        "id": "544qdwp931nT"
      },
      "execution_count": 7,
      "outputs": []
    },
    {
      "cell_type": "markdown",
      "source": [
        "There are two authentication keys to be used:\n",
        "- Authentication without user: access to general Spotify data\n",
        "- Authentication with a user: access to the data of a given user, indicating their particular stats, followed lists, etc"
      ],
      "metadata": {
        "id": "UFLGPt-86P-I"
      }
    },
    {
      "cell_type": "code",
      "source": [
        "#Authentication - without user\n",
        "client_credentials_manager = SpotifyClientCredentials(client_id=client_id, client_secret=client_secret)\n",
        "sp = spotipy.Spotify(client_credentials_manager = client_credentials_manager)\n",
        "\n",
        "# Authentication with user\n",
        "\n",
        "sp_oauth = SpotifyOAuth(client_id=client_id, client_secret=client_secret, redirect_uri=redirect_uri, scope=scope,\n",
        "                        show_dialog = True, open_browser = False)\n",
        "auth_url = sp_oauth.get_authorize_url()\n",
        "print(f\"Please visit the following URL to authorize the application: {auth_url}\")\n",
        "\n",
        "redirected_url = input(\"Please enter the URL you were redirected to: \")\n",
        "\n",
        "#code = sp_oauth.parse_response_code(redirected_url)\n",
        "token_info = sp_oauth.get_access_token(redirected_url)\n",
        "\n",
        "# Create a Spotipy client using the access token\n",
        "sp_user = spotipy.Spotify(auth=token_info['access_token'])"
      ],
      "metadata": {
        "id": "AtnG02cl6DhE"
      },
      "execution_count": 10,
      "outputs": []
    },
    {
      "cell_type": "code",
      "source": [
        "top_tracks = sp_user.current_user_top_tracks(limit=10, time_range='short_term')  # short_term, medium_term, or long_term\n"
      ],
      "metadata": {
        "id": "lSUpKpfP-V-_"
      },
      "execution_count": null,
      "outputs": []
    },
    {
      "cell_type": "markdown",
      "source": [
        "Once the data has been accessed, it is possible to show the information of the a givenm playlist. In this case we the Global top charts playlist."
      ],
      "metadata": {
        "id": "bFJnKxZBkBKI"
      }
    },
    {
      "cell_type": "code",
      "source": [
        "top_5_global_link = \"https://open.spotify.com/playlist/37i9dQZEVXbNG2KDcFcKOF?si=1333723a6eff4b7f\"\n",
        "playlist_URI = top_5_global_link.split(\"/\")[-1].split(\"?\")[0]\n",
        "track_uris = [x[\"track\"][\"uri\"] for x in sp.playlist_tracks(playlist_URI)[\"items\"]]"
      ],
      "metadata": {
        "id": "R_q5MQ5c9YBe"
      },
      "execution_count": 11,
      "outputs": []
    },
    {
      "cell_type": "code",
      "source": [
        "for track in sp.playlist_tracks(playlist_URI)[\"items\"]:\n",
        "    #URI\n",
        "    track_uri = track[\"track\"][\"uri\"]\n",
        "    \n",
        "    #Track name\n",
        "    track_name = track[\"track\"][\"name\"]\n",
        "    \n",
        "    #Main Artist\n",
        "    artist_uri = track[\"track\"][\"artists\"][0][\"uri\"]\n",
        "    artist_info = sp.artist(artist_uri)\n",
        "    \n",
        "    #Name, popularity, genre\n",
        "    artist_name = track[\"track\"][\"artists\"][0][\"name\"]\n",
        "    artist_pop = artist_info[\"popularity\"]\n",
        "    artist_genres = artist_info[\"genres\"]\n",
        "    \n",
        "    #Album\n",
        "    album = track[\"track\"][\"album\"][\"name\"]\n",
        "    \n",
        "    #Popularity of the track\n",
        "    track_pop = track[\"track\"][\"popularity\"]\n",
        "\n",
        "    print(f'{track_name}, from {artist_name} and album \"{album}\"')"
      ],
      "metadata": {
        "id": "G5apdCAS9aWY",
        "outputId": "af78cebb-6001-4baa-e63d-4a327892ca74",
        "colab": {
          "base_uri": "https://localhost:8080/"
        }
      },
      "execution_count": 12,
      "outputs": [
        {
          "output_type": "stream",
          "name": "stdout",
          "text": [
            "Flowers, from Miley Cyrus and album \"Endless Summer Vacation\"\n",
            "TQG, from KAROL G and album \"MAÑANA SERÁ BONITO\"\n",
            "Kill Bill, from SZA and album \"SOS\"\n",
            "Boy's a liar Pt. 2, from PinkPantheress and album \"Boy's a liar Pt. 2\"\n",
            "BESO, from ROSALÍA and album \"RR\"\n",
            "Die For You (with Ariana Grande) - Remix, from The Weeknd and album \"Starboy (Deluxe)\"\n",
            "As It Was, from Harry Styles and album \"Harry's House\"\n",
            "Shakira: Bzrp Music Sessions, Vol. 53, from Bizarrap and album \"Shakira: Bzrp Music Sessions, Vol. 53\"\n",
            "Ella Baila Sola, from Eslabon Armado and album \"Ella Baila Sola\"\n",
            "La Bebe - Remix, from Yng Lvcas and album \"La Bebe (Remix)\"\n",
            "Creepin' (with The Weeknd & 21 Savage), from Metro Boomin and album \"HEROES & VILLAINS\"\n",
            "Yandel 150, from Yandel and album \"Resistencia\"\n",
            "Coco Chanel, from Eladio Carrion and album \"3MEN2 KBRN\"\n",
            "Calm Down (with Selena Gomez), from Rema and album \"Calm Down (with Selena Gomez)\"\n",
            "Like Crazy, from Jimin and album \"FACE\"\n",
            "All Of The Girls You Loved Before, from Taylor Swift and album \"All Of The Girls You Loved Before\"\n",
            "Anti-Hero, from Taylor Swift and album \"Midnights\"\n",
            "Unholy (feat. Kim Petras), from Sam Smith and album \"Gloria\"\n",
            "Set Me Free Pt.2, from Jimin and album \"Set Me Free Pt.2\"\n",
            "La Bachata, from Manuel Turizo and album \"2000\"\n",
            "I'm Good (Blue), from David Guetta and album \"I'm Good (Blue)\"\n",
            "Die For You, from The Weeknd and album \"Starboy\"\n",
            "Arcángel: Bzrp Music Sessions, Vol. 54, from Bizarrap and album \"Arcángel: Bzrp Music Sessions, Vol. 54\"\n",
            "Last Night, from Morgan Wallen and album \"One Thing At A Time\"\n",
            "PRC, from Peso Pluma and album \"PRC\"\n",
            "AMG, from Natanael Cano and album \"AMG\"\n",
            "Eyes Closed, from Ed Sheeran and album \"Eyes Closed (Piano Version)\"\n",
            "Here With Me, from d4vd and album \"Here With Me\"\n",
            "Hey Mor, from Ozuna and album \"OzuTochi\"\n",
            "Until I Found You (with Em Beihold) - Em Beihold Version, from Stephen Sanchez and album \"Until I Found You (Em Beihold Version)\"\n",
            "Like Crazy (English Version), from Jimin and album \"FACE\"\n",
            "Starboy, from The Weeknd and album \"Starboy\"\n",
            "Quevedo: Bzrp Music Sessions, Vol. 52, from Bizarrap and album \"Quevedo: Bzrp Music Sessions, Vol. 52\"\n",
            "I Wanna Be Yours, from Arctic Monkeys and album \"AM\"\n",
            "Escapism., from RAYE and album \"My 21st Century Blues\"\n",
            "golden hour, from JVKE and album \"this is what ____ feels like (Vol. 1-4)\"\n",
            "Another Love, from Tom Odell and album \"Long Way Down\"\n",
            "Shorty Party, from Cartel De Santa and album \"Shorty Party\"\n",
            "OMG, from NewJeans and album \"NewJeans 'OMG'\"\n",
            "I Ain't Worried, from OneRepublic and album \"OneRepublic (Japan Paradise Tour Edition)\"\n",
            "Feliz Cumpleaños Ferxxo, from Feid and album \"FELIZ CUMPLEAÑOS FERXXO TE PIRATEAMOS EL ÁLBUM\"\n",
            "Players, from Coi Leray and album \"Players\"\n",
            "La Jumpa, from Arcángel and album \"Sr. Santos\"\n",
            "Mockingbird, from Eminem and album \"Encore (Deluxe Version)\"\n",
            "ceilings, from Lizzy McAlpine and album \"five seconds flat\"\n",
            "Snooze, from SZA and album \"SOS\"\n",
            "Rara Vez, from Taiu and album \"Rara Vez\"\n",
            "Cupid - Twin Ver., from FIFTY FIFTY and album \"The Beginning: Cupid\"\n",
            "Sure Thing, from Miguel and album \"All I Want Is You\"\n",
            "Bones, from Imagine Dragons and album \"Mercury - Acts 1 & 2\"\n"
          ]
        }
      ]
    }
  ]
}